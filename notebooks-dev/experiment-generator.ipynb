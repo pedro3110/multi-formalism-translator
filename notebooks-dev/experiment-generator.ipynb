{
 "cells": [
  {
   "cell_type": "code",
   "execution_count": 1,
   "metadata": {},
   "outputs": [],
   "source": [
    "from src.utils.generator.Generator import Generator as Generator\n",
    "from src.utils.shocker.ShockerDebt import ShockerDebt as ShockerDebt\n",
    "from src.utils.shocker.ShockerCapital import ShockerCapital as ShockerCapital\n",
    "from src.utils.shocker.ShockerWagesEmployment import ShockerWagesEmployment as ShockerWagesEmployment\n",
    "\n",
    "import os\n",
    "import shutil\n",
    "from distutils.dir_util import copy_tree"
   ]
  },
  {
   "cell_type": "markdown",
   "metadata": {},
   "source": [
    "# Parametros 1"
   ]
  },
  {
   "cell_type": "code",
   "execution_count": 2,
   "metadata": {},
   "outputs": [],
   "source": [
    "root_experiments = '/home/pedro/Desktop/Proyectos/multi-formalism-translator/notebooks-dev/results-experiments/'\n",
    "\n",
    "experiment_name = \"sample_experiment\"\n",
    "experiment_directory = root_experiments + '/' + experiment_name\n",
    "\n",
    "src_folder = root_experiments + experiment_name + '/src/'\n",
    "cnt_parallel = 8"
   ]
  },
  {
   "cell_type": "code",
   "execution_count": 3,
   "outputs": [],
   "source": [
    "templates_dir = '/home/pedro/Desktop/Proyectos/multi-formalism-translator/test/data/templates-experimentos'\n",
    "shocker_templates_folder = templates_dir + '/shockers'"
   ],
   "metadata": {
    "collapsed": false,
    "pycharm": {
     "name": "#%%\n"
    }
   }
  },
  {
   "cell_type": "code",
   "execution_count": 4,
   "metadata": {},
   "outputs": [],
   "source": [
    "# %%sh -s \"$experiment_directory\"\n",
    "# mkdir \"$1\""
   ]
  },
  {
   "cell_type": "code",
   "execution_count": 5,
   "metadata": {},
   "outputs": [
    {
     "name": "stdout",
     "output_type": "stream",
     "text": [
      "Copied OK\n"
     ]
    }
   ],
   "source": [
    "experiment_base_src_dir = '/home/pedro/Desktop/Proyectos/multi-formalism-translator/test/data/modelos/cell/opinion-goodwin-minsky/src'\n",
    "\n",
    "copy_tree(experiment_base_src_dir, src_folder)\n",
    "print (\"Copied OK\")"
   ]
  },
  {
   "cell_type": "markdown",
   "metadata": {},
   "source": [
    "### TODO: criterio de 'shockExterno' => que pasa si shockeas a un Influyente?"
   ]
  },
  {
   "cell_type": "code",
   "execution_count": 17,
   "metadata": {},
   "outputs": [
    {
     "name": "stdout",
     "output_type": "stream",
     "text": [
      "template-shocker-wages-employmentrate.cpp\n"
     ]
    }
   ],
   "source": [
    "simulation_stop_time = \"00:01:00:00:000\"\n",
    "cell_devs_width = 10\n",
    "cell_devs_height = 10\n",
    "\n",
    "# Shockers\n",
    "threshold_WR = 0.5\n",
    "threshold_ER = 0.5\n",
    "\n",
    "solo_una_vez = False\n",
    "shockers = [\n",
    "    # (type_, name_, limit, solo_un_shock, n_outports, n_outports_to_shock, nombre_shock)\n",
    "    ShockerDebt(shocker_templates_folder, 7, 'shockerDebt1', 1000, solo_una_vez, cell_devs_width * cell_devs_height, 30, \"shockExterno\"),\n",
    "    ShockerDebt(shocker_templates_folder, 6, 'shockerDebt2', 3500, solo_una_vez, cell_devs_width * cell_devs_height, 30, \"shockExterno\"),\n",
    "    ShockerCapital(shocker_templates_folder, 5, 'shockerCapital1', 500, solo_una_vez, cell_devs_width * cell_devs_height, 30, \"shockExterno\"),\n",
    "    \n",
    "    # (type_, name_, thresholdWR, thresholdER, negativeshock, positiveshock, \n",
    "    # solo_un_shock, n_outports, n_outports_to_shock, nombre_shock)\n",
    "    ShockerWagesEmployment(shocker_templates_folder, 7, 'shockerWRER2', threshold_WR, threshold_ER, 5, 7, solo_una_vez,\n",
    "                           cell_devs_width * cell_devs_height, 30, \"shockExterno\")\n",
    "]\n",
    "\n",
    "# POR LAS DUDAS: limito la cantidad de threads cuando el modelo es el COMBINADO (no-standalone)\n",
    "# TODO: VER DE CORRER EN PARALELO CUANDO QUEREMOS CON Y SIN SHOCK\n",
    "GENERAR_CON_Y_SIN_SHOCK = True\n",
    "if len(shockers) > 0:\n",
    "    cnt_parallel = 4\n",
    "\n",
    "for shocker in shockers:\n",
    "    shocker.generate_shocker(src_folder)\n",
    "cell_devs_delay_value = 100\n",
    "cell_devs_shock_rules = {\n",
    "    'shockExterno': [\n",
    "        '{ (0,0,0) - #macro(qshock) * #macro(delta) } 0 { portValue(thisPort) = 5 and (0,0,0) - #macro(qshock) * #macro(delta) >= -3}',\n",
    "        '{ -3 } 0 { portValue(thisPort) = 5 and (0,0,0) - #macro(qshock) * #macro(delta) < -3}',\n",
    "        \n",
    "        '{ (0,0,0) } 0 { portValue(thisPort) = 6 and (0,0,0) = 0}',\n",
    "        \n",
    "        '{ (0,0,0) + #macro(qshock) * #macro(delta) } 0 { portValue(thisPort) = 6 and (0,0,0) < 0 and (0,0,0) + #macro(qshock) * #macro(delta) <= 3}',\n",
    "        '{ 3 } 0 { portValue(thisPort) = 6 and (0,0,0) < 0 and (0,0,0) + #macro(qshock) * #macro(delta) > 3}',\n",
    "        \n",
    "        '{ (0,0,0) - #macro(qshock) * #macro(delta) } 0 { portValue(thisPort) = 6 and (0,0,0) > 0 and (0,0,0) - #macro(qshock) * #macro(delta) >= -3}',\n",
    "        '{ -3 } 0 { portValue(thisPort) = 6 and (0,0,0) > 0 and (0,0,0) - #macro(qshock) * #macro(delta) < -3}',\n",
    "        \n",
    "        '{ (0,0,0) + #macro(qshock) * #macro(delta) } 0 { portValue(thisPort) = 7 and (0,0,0) + #macro(qshock) * #macro(delta) <= 3}',\n",
    "        '{ 3 } 0 { portValue(thisPort) = 7 and (0,0,0) + #macro(qshock) * #macro(delta) > 3}',\n",
    "        \n",
    "        '{ (0,0,0) } 0 { t }'\n",
    "    ]\n",
    "}\n",
    "\n",
    "n_initial_conditions = 10\n",
    "\n",
    "# InitialConditions: [%extreme_neg,%negative, %neutral, %positive, %extreme_pos]\n",
    "# TODO: HACER QUE DEPENDA DE 'long' para cada valor de la MACRO\n",
    "# pctgs = []\n",
    "# for p0 in [10,20,30,40,50,60,70,80,90]:\n",
    "#     for pi in range(10,100-p0+1,10):\n",
    "#         m = (100 - pi - p0)/2\n",
    "#         k = [pi/2, m, float(p0), m, pi/2]\n",
    "#         assert(sum(k) == 100)\n",
    "#         k2 = list(map(lambda x: x/100, k))\n",
    "#         assert(round(sum(k2),5) == 1)\n",
    "#         pctgs.append(k2)  \n",
    "# initial_cond_percentages = pctgs\n",
    "# initial_cond_percentages = [[0.1, 0.05, 0.7, 0.05, 0.1]]\n",
    "initial_cond_percentages = [\n",
    "    #[0.05,0,0.9,0,0.05],\n",
    "    [0.1 ,0.05,0.7,0.05,0.1],\n",
    "    #[0.2,0  ,0.6,0,0.2]\n",
    "]\n",
    "\n",
    "# Explicacion parametros:\n",
    "# long: - determina el limite entre Partidario / Influyente\n",
    "#       - [-1,1] => Indefinido | [1,long] => Partidario | [long, 3] => Influyente\n",
    "# q: - si yo soy Partidiario y el otro es Influyente del otro bando, me acerco un q*delta.\n",
    "#    - si yo soy Indefinido y el otro es Influyente, me acerco un q*delta\n",
    "#\n",
    "# k: - si yo soy Indefinido y el otro es Partidiario , me acerco un k*delta.\n",
    "# \n",
    "# ===> debe pasar : q > k\n",
    "#\n",
    "macros_list = [\n",
    "    {\"long\": 2.8, \"q\": 2, \"delta\": 0.1, \"k\": 1.5, \"qshock\": 13},\n",
    "    {\"long\": 2.8, \"q\": 2, \"delta\": 0.2, \"k\": 1.5, \"qshock\": 13}\n",
    "]\n",
    "input_parameters_list = [\n",
    "    {\n",
    "        'Betaa' : 0.015, \n",
    "        'rateInterestOnLoans' : 0.04, \n",
    "        'Alphaa' : 0.025, \n",
    "        'employmentRateStable' : 10,\n",
    "        'deltaKReal' : 0.05, \n",
    "        'velocityOfMoney' : 3,\n",
    "        'piZ' : 0.04,\n",
    "        'employmentRateZero' : 0.6,\n",
    "        'piS' : 10,\n",
    "        \n",
    "        'ThresholdWR': 0.8,\n",
    "        'ThresholdER': 0.8\n",
    "    }\n",
    "]"
   ]
  },
  {
   "cell_type": "markdown",
   "metadata": {},
   "source": [
    "# Genero experimentos"
   ]
  },
  {
   "cell_type": "code",
   "execution_count": 18,
   "metadata": {},
   "outputs": [],
   "source": [
    "g = Generator(templates_dir)\n",
    "g.generate_reg_file(src_folder + 'reg.cpp', shockers)\n",
    "for icp in initial_cond_percentages:\n",
    "    for n in range(n_initial_conditions):\n",
    "        name_valfiles = experiment_directory + \"/valfiles/\"\n",
    "        if not os.path.exists(name_valfiles):\n",
    "            os.mkdir(name_valfiles)\n",
    "        name = name_valfiles + \"_\".join(list(map(lambda x: str(x), icp))) + \"/\"\n",
    "        if not os.path.exists(name):\n",
    "            os.mkdir(name)\n",
    "        name = name + \"valfile_\" + str(n)\n",
    "        g.generate_valfile(name, icp, cell_devs_width, cell_devs_height)\n",
    "\n",
    "#####################################################################  \n",
    "g.generate_goodwin_minsky_ma_file(\n",
    "    experiment_directory + \"/mafile.ma\",\n",
    "    shockers,\n",
    "    cell_devs_height, \n",
    "    cell_devs_width, \n",
    "    cell_devs_delay_value,\n",
    "    cell_devs_shock_rules\n",
    ")\n",
    "\n",
    "\n",
    "for i, macro in enumerate(macros_list):\n",
    "    if not os.path.exists(experiment_directory + '/macros'):\n",
    "        os.mkdir(experiment_directory + '/macros')\n",
    "    macros_filename = experiment_directory + '/macros/' + \"macro_\" + str(i)\n",
    "    g.generate_macros(macros_filename, macro[\"long\"], macro[\"q\"], macro[\"delta\"], macro[\"k\"], macro[\"qshock\"])\n",
    "for i, ip in enumerate(input_parameters_list):\n",
    "    if not os.path.exists(experiment_directory + '/events/'):\n",
    "        os.mkdir(experiment_directory + '/events/')\n",
    "    g.generate_ev_file(experiment_directory + '/events/events_' + str(i) + '.ev', ip)"
   ]
  },
  {
   "cell_type": "markdown",
   "metadata": {},
   "source": [
    "# Correr los experimentos"
   ]
  },
  {
   "cell_type": "code",
   "execution_count": 23,
   "metadata": {},
   "outputs": [],
   "source": [
    "%%sh -s \"$experiment_directory\"\n",
    "# rm -r \"$1/results\"\n",
    "mkdir \"$1/results\""
   ]
  },
  {
   "cell_type": "code",
   "execution_count": 24,
   "metadata": {},
   "outputs": [
    {
     "name": "stdout",
     "output_type": "stream",
     "text": [
      "/home/pedro/Desktop/Proyectos/multi-formalism-translator/notebooks-dev/results-experiments//sample_experiment/results/0.2_0_0.6_0_0.2/\n",
      "/home/pedro/Desktop/Proyectos/multi-formalism-translator/notebooks-dev/results-experiments//sample_experiment/results/0.2_0_0.6_0_0.2/\n",
      "/home/pedro/Desktop/Proyectos/multi-formalism-translator/notebooks-dev/results-experiments//sample_experiment/results/0.2_0_0.6_0_0.2/\n",
      "/home/pedro/Desktop/Proyectos/multi-formalism-translator/notebooks-dev/results-experiments//sample_experiment/results/0.2_0_0.6_0_0.2/\n",
      "/home/pedro/Desktop/Proyectos/multi-formalism-translator/notebooks-dev/results-experiments//sample_experiment/results/0.2_0_0.6_0_0.2/\n",
      "/home/pedro/Desktop/Proyectos/multi-formalism-translator/notebooks-dev/results-experiments//sample_experiment/results/0.2_0_0.6_0_0.2/\n",
      "/home/pedro/Desktop/Proyectos/multi-formalism-translator/notebooks-dev/results-experiments//sample_experiment/results/0.2_0_0.6_0_0.2/\n",
      "/home/pedro/Desktop/Proyectos/multi-formalism-translator/notebooks-dev/results-experiments//sample_experiment/results/0.2_0_0.6_0_0.2/\n",
      "/home/pedro/Desktop/Proyectos/multi-formalism-translator/notebooks-dev/results-experiments//sample_experiment/results/0.2_0_0.6_0_0.2/\n",
      "/home/pedro/Desktop/Proyectos/multi-formalism-translator/notebooks-dev/results-experiments//sample_experiment/results/0.2_0_0.6_0_0.2/\n",
      "/home/pedro/Desktop/Proyectos/multi-formalism-translator/notebooks-dev/results-experiments//sample_experiment/results/0.1_0.05_0.7_0.05_0.1/\n",
      "/home/pedro/Desktop/Proyectos/multi-formalism-translator/notebooks-dev/results-experiments//sample_experiment/results/0.1_0.05_0.7_0.05_0.1/\n",
      "/home/pedro/Desktop/Proyectos/multi-formalism-translator/notebooks-dev/results-experiments//sample_experiment/results/0.1_0.05_0.7_0.05_0.1/\n",
      "/home/pedro/Desktop/Proyectos/multi-formalism-translator/notebooks-dev/results-experiments//sample_experiment/results/0.1_0.05_0.7_0.05_0.1/\n",
      "/home/pedro/Desktop/Proyectos/multi-formalism-translator/notebooks-dev/results-experiments//sample_experiment/results/0.1_0.05_0.7_0.05_0.1/\n",
      "/home/pedro/Desktop/Proyectos/multi-formalism-translator/notebooks-dev/results-experiments//sample_experiment/results/0.1_0.05_0.7_0.05_0.1/\n",
      "/home/pedro/Desktop/Proyectos/multi-formalism-translator/notebooks-dev/results-experiments//sample_experiment/results/0.1_0.05_0.7_0.05_0.1/\n",
      "/home/pedro/Desktop/Proyectos/multi-formalism-translator/notebooks-dev/results-experiments//sample_experiment/results/0.1_0.05_0.7_0.05_0.1/\n",
      "/home/pedro/Desktop/Proyectos/multi-formalism-translator/notebooks-dev/results-experiments//sample_experiment/results/0.1_0.05_0.7_0.05_0.1/\n",
      "/home/pedro/Desktop/Proyectos/multi-formalism-translator/notebooks-dev/results-experiments//sample_experiment/results/0.1_0.05_0.7_0.05_0.1/\n",
      "/home/pedro/Desktop/Proyectos/multi-formalism-translator/notebooks-dev/results-experiments//sample_experiment/results/0.05_0_0.9_0_0.05/\n",
      "/home/pedro/Desktop/Proyectos/multi-formalism-translator/notebooks-dev/results-experiments//sample_experiment/results/0.05_0_0.9_0_0.05/\n",
      "/home/pedro/Desktop/Proyectos/multi-formalism-translator/notebooks-dev/results-experiments//sample_experiment/results/0.05_0_0.9_0_0.05/\n",
      "/home/pedro/Desktop/Proyectos/multi-formalism-translator/notebooks-dev/results-experiments//sample_experiment/results/0.05_0_0.9_0_0.05/\n",
      "/home/pedro/Desktop/Proyectos/multi-formalism-translator/notebooks-dev/results-experiments//sample_experiment/results/0.05_0_0.9_0_0.05/\n",
      "/home/pedro/Desktop/Proyectos/multi-formalism-translator/notebooks-dev/results-experiments//sample_experiment/results/0.05_0_0.9_0_0.05/\n",
      "/home/pedro/Desktop/Proyectos/multi-formalism-translator/notebooks-dev/results-experiments//sample_experiment/results/0.05_0_0.9_0_0.05/\n",
      "/home/pedro/Desktop/Proyectos/multi-formalism-translator/notebooks-dev/results-experiments//sample_experiment/results/0.05_0_0.9_0_0.05/\n",
      "/home/pedro/Desktop/Proyectos/multi-formalism-translator/notebooks-dev/results-experiments//sample_experiment/results/0.05_0_0.9_0_0.05/\n",
      "/home/pedro/Desktop/Proyectos/multi-formalism-translator/notebooks-dev/results-experiments//sample_experiment/results/0.05_0_0.9_0_0.05/\n"
     ]
    }
   ],
   "source": [
    "# EVENTOS\n",
    "for fn in os.listdir(experiment_directory + '/events'):\n",
    "    for valfile_dir in os.listdir(experiment_directory + '/valfiles'):\n",
    "        # VALORES INICIALES DE CELDAS\n",
    "        for valfile in os.listdir(experiment_directory+'/valfiles/'+valfile_dir):\n",
    "            exp_run_dir = experiment_directory + \"/results/\" + valfile_dir + \"/\"\n",
    "            print(exp_run_dir)\n",
    "            if not os.path.exists(exp_run_dir):\n",
    "                os.mkdir(exp_run_dir)\n",
    "            exp_run_dir = exp_run_dir + valfile + \"/\"\n",
    "            if not os.path.exists(exp_run_dir):\n",
    "                os.mkdir(exp_run_dir)\n",
    "            # VALORES DE MACROS\n",
    "            for macro in os.listdir(experiment_directory+'/macros'):\n",
    "                exp_run_dir_final = exp_run_dir + macro + \"/\"\n",
    "                if not os.path.exists(exp_run_dir_final):\n",
    "                    os.mkdir(exp_run_dir_final)\n",
    "                shutil.copy(experiment_directory+'/macros/'+macro, exp_run_dir_final+'macros.inc')\n",
    "                shutil.copy(experiment_directory+'/events/'+fn, exp_run_dir_final + 'events.ev')\n",
    "                shutil.copy(experiment_directory+'/valfiles/'+valfile_dir+'/'+valfile, exp_run_dir_final+'valfile.val')\n",
    "                shutil.copy(experiment_directory+'/mafile.ma', exp_run_dir_final+'mafile.ma')\n",
    "                shutil.copy(templates_dir + '/conviccion.pal', exp_run_dir_final+'conviccion.pal')\n",
    "                g.generate_opinion_standalone_ma_file(\n",
    "                    exp_run_dir_final+'opinion_standalone.ma', \n",
    "                    cell_devs_width, cell_devs_height\n",
    "                )"
   ]
  },
  {
   "cell_type": "code",
   "execution_count": 25,
   "metadata": {},
   "outputs": [],
   "source": [
    "cmds_directory = experiment_directory + \"/cmds\"\n",
    "if not os.path.exists(cmds_directory):\n",
    "    os.mkdir(cmds_directory)\n",
    "\n",
    "cmds1 = []\n",
    "cmds2 = []\n",
    "for props_dir in os.listdir(experiment_directory + '/results'):\n",
    "    for valfile_dir in os.listdir(experiment_directory+'/results/'+props_dir):\n",
    "        for macros_dir in os.listdir(experiment_directory+'/results/'+props_dir+'/'+valfile_dir):\n",
    "            cmd1 = \"cd \" + 'results/'+props_dir+'/'+valfile_dir+'/'+macros_dir\n",
    "\n",
    "            # CON SHOCK\n",
    "            if len(shockers) > 0:\n",
    "                cmd2_1 = \"../../../../src/bin/cd++ -mmafile.ma -eevents.ev -t\" + simulation_stop_time + \" -llog\"\n",
    "                cmd3_1 = \"cp log\" + str(45 + len(shockers)) + \" opinion_log && rm log*\"\n",
    "                cmd = cmd1 + \" && \" + cmd2_1 + \" && \" + cmd3_1 + \"\\n\"\n",
    "                cmds1.append(cmd)\n",
    "\n",
    "            # SIN SHOCK\n",
    "            if len(shockers) == 0 or GENERAR_CON_Y_SIN_SHOCK:\n",
    "                cmd2_2 = \"../../../../src/bin/cd++ -mopinion_standalone.ma -t\" + simulation_stop_time + \" -llog\"\n",
    "                cmd3_2 = \"cp log01 opinion_log_standalone && rm log*\"\n",
    "                cmd2 = cmd1 + \" && \" + cmd2_2 + \" && \" + cmd3_2 + \"\\n\"\n",
    "                cmds2.append(cmd2)\n",
    "\n",
    "\n",
    "\n",
    "with open (cmds_directory + \"/commands_make.txt\", \"w+\") as f:\n",
    "    f.write(\"cd src && rm -rf bin && make\\n\")\n",
    "\n",
    "n_cmd = 0\n",
    "filenames_cmds = set()\n",
    "write_read = [\"w+\", \"a\"]\n",
    "for n_cmds, cmds in enumerate([cmds1, cmds2]):\n",
    "    for i, cmd in enumerate(cmds):\n",
    "        if i % cnt_parallel == 0:\n",
    "            n_cmd += 1\n",
    "\n",
    "        filename_cmd = cmds_directory + \"/commands_\" + str(n_cmds) + \"_\" + str(n_cmd) + \".txt\"\n",
    "        filenames_cmds.add(\"cmds/commands_\" + str(n_cmds) + \"_\"  + str(n_cmd) + \".txt\")\n",
    "\n",
    "        if i%cnt_parallel==0:\n",
    "            with open(filename_cmd, \"w+\") as f:\n",
    "                f.write(cmd)\n",
    "        else:\n",
    "            with open(filename_cmd, \"a\") as f:\n",
    "                f.write(cmd)\n",
    "\n",
    "with open (experiment_directory +\"/run.sh\", \"w+\") as f:\n",
    "    f.write(\"time parallel :::: cmds/commands_make.txt\\n\")\n",
    "    for filename in filenames_cmds:\n",
    "        f.write(\"time parallel :::: \" + filename + \"\\n\")\n",
    "\n",
    "if len(shockers) == 0:\n",
    "    print (\"NO HAY SHOCKERS. CORRO EL MODELO OPINION_STANDALONE!!!\")\n"
   ]
  },
  {
   "cell_type": "code",
   "execution_count": 26,
   "metadata": {},
   "outputs": [],
   "source": [
    "# Borrar archivos utilizados para generar casos de test\n",
    "shutil.rmtree(experiment_directory+'/macros/')\n",
    "shutil.rmtree(experiment_directory+'/events/')\n",
    "shutil.rmtree(experiment_directory+'/valfiles/')"
   ]
  },
  {
   "cell_type": "code",
   "execution_count": null,
   "metadata": {},
   "outputs": [],
   "source": []
  },
  {
   "cell_type": "code",
   "execution_count": null,
   "metadata": {},
   "outputs": [],
   "source": []
  }
 ],
 "metadata": {
  "kernelspec": {
   "display_name": "Python 3",
   "language": "python",
   "name": "python3"
  },
  "language_info": {
   "codemirror_mode": {
    "name": "ipython",
    "version": 3
   },
   "file_extension": ".py",
   "mimetype": "text/x-python",
   "name": "python",
   "nbconvert_exporter": "python",
   "pygments_lexer": "ipython3",
   "version": "3.5.2"
  }
 },
 "nbformat": 4,
 "nbformat_minor": 2
}