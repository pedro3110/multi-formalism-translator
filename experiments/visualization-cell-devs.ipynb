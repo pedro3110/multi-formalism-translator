{
 "cells": [
  {
   "cell_type": "code",
   "execution_count": 1,
   "metadata": {},
   "outputs": [],
   "source": [
    "%matplotlib inline\n",
    "import seaborn as sns\n",
    "import numpy as np\n",
    "import matplotlib.markers as markers\n",
    "import matplotlib.ticker as ticker\n",
    "import matplotlib.pyplot as plt\n",
    "import pandas as pd\n",
    "\n",
    "from modulos.cell_devs_parser import cell_devs_parser"
   ]
  },
  {
   "cell_type": "code",
   "execution_count": 2,
   "metadata": {},
   "outputs": [],
   "source": [
    "# Cantidad de instantes en los que quiero conocer el valor exacto de cada celda\n",
    "n_cuts = 100"
   ]
  },
  {
   "cell_type": "markdown",
   "metadata": {},
   "source": [
    "# Ejemplos"
   ]
  },
  {
   "cell_type": "code",
   "execution_count": 3,
   "metadata": {},
   "outputs": [],
   "source": [
    "NOMBRE_EXPERIMENTO = 'exp_final_3'"
   ]
  },
  {
   "cell_type": "code",
   "execution_count": 4,
   "metadata": {},
   "outputs": [
    {
     "name": "stdout",
     "output_type": "stream",
     "text": [
      "0.05_0_0.9_0_0.05  0.1_0.05_0.7_0.05_0.1  0.2_0_0.6_0_0.2\n"
     ]
    }
   ],
   "source": [
    "!cd ../root/modelos/cell/opinion/opinion-goodwin-minsky/experimentos/\"$NOMBRE_EXPERIMENTO\"/results && ls"
   ]
  },
  {
   "cell_type": "code",
   "execution_count": 5,
   "metadata": {},
   "outputs": [],
   "source": [
    "# VALORES_INICIALES_ARCHIVO_1 = '0.33_0.34_0.33'\n",
    "# VALORES_INICIALES_ARCHIVO_1 = '0.1_0.8_0.1'\n",
    "VALORES_INICIALES_ARCHIVO_1 = '0.1_0.05_0.7_0.05_0.1'"
   ]
  },
  {
   "cell_type": "code",
   "execution_count": 6,
   "metadata": {},
   "outputs": [
    {
     "name": "stdout",
     "output_type": "stream",
     "text": [
      "valfile_0  valfile_2  valfile_4  valfile_6  valfile_8\n",
      "valfile_1  valfile_3  valfile_5  valfile_7  valfile_9\n"
     ]
    }
   ],
   "source": [
    "!cd ../root/modelos/cell/opinion/opinion-goodwin-minsky/experimentos/\"$NOMBRE_EXPERIMENTO\"/results/\"$VALORES_INICIALES_ARCHIVO_1\" && ls"
   ]
  },
  {
   "cell_type": "code",
   "execution_count": 7,
   "metadata": {},
   "outputs": [],
   "source": [
    "VALORES_INICIALES_ARCHIVO_2 = 'valfile_0'"
   ]
  },
  {
   "cell_type": "code",
   "execution_count": 8,
   "metadata": {},
   "outputs": [
    {
     "name": "stdout",
     "output_type": "stream",
     "text": [
      "macro_0  macro_1\n"
     ]
    }
   ],
   "source": [
    "!cd ../root/modelos/cell/opinion/opinion-goodwin-minsky/experimentos/\"$NOMBRE_EXPERIMENTO\"/results/\"$VALORES_INICIALES_ARCHIVO_1\"/\"$VALORES_INICIALES_ARCHIVO_2\" && ls"
   ]
  },
  {
   "cell_type": "code",
   "execution_count": 9,
   "metadata": {},
   "outputs": [],
   "source": [
    "MACROS_ARCHIVO = 'macro_0'"
   ]
  },
  {
   "cell_type": "code",
   "execution_count": 10,
   "metadata": {},
   "outputs": [
    {
     "name": "stdout",
     "output_type": "stream",
     "text": [
      "conviccion.pal\tmacros.inc  opinion_log\t\t    opinion_standalone.ma\n",
      "events.ev\tmafile.ma   opinion_log_standalone  valfile.val\n"
     ]
    }
   ],
   "source": [
    "!cd ../root/modelos/cell/opinion/opinion-goodwin-minsky/experimentos/\"$NOMBRE_EXPERIMENTO\"/results/\"$VALORES_INICIALES_ARCHIVO_1\"/\"$VALORES_INICIALES_ARCHIVO_2\"/\"$MACROS_ARCHIVO\" && ls"
   ]
  },
  {
   "cell_type": "code",
   "execution_count": 11,
   "metadata": {},
   "outputs": [],
   "source": [
    "NOMBRE_ARCHIVO = 'opinion_log'"
   ]
  },
  {
   "cell_type": "code",
   "execution_count": 12,
   "metadata": {},
   "outputs": [],
   "source": [
    "#!cd ../root/modelos/cell/opinion/opinion-goodwin-minsky/experimentos/\"$NOMBRE_EXPERIMENTO\"/results/\"$VALORES_INICIALES_ARCHIVO_1\"/\"$VALORES_INICIALES_ARCHIVO_2\"/\"$MACROS_ARCHIVO\" && cat mafile.ma"
   ]
  },
  {
   "cell_type": "markdown",
   "metadata": {},
   "source": [
    "# COMBINAR VARIOS VALFILES EN 1 VISUALIZACION"
   ]
  },
  {
   "cell_type": "code",
   "execution_count": 13,
   "metadata": {},
   "outputs": [],
   "source": [
    "# MOSTRAR LA EVOLUCION DE CADA VALFILE COMO UNA LINEA. MOSTRAR TODAS LAS LINEAS EN UN MISMO PLOT\n",
    "def plot_cell_devs(N, M, NOMBRE_EXPERIMENTO, VALORES_INICIALES_ARCHIVO_1, MACROS_ARCHIVO, NOMBRE_ARCHIVO, valfiles):\n",
    "    pal = sns.color_palette(n_colors=len(valfiles))\n",
    "    for enum_valfile, n_valfile in enumerate(valfiles):\n",
    "        filename = '../root/modelos/cell/opinion/opinion-goodwin-minsky/experimentos/' + NOMBRE_EXPERIMENTO + '/results/' + VALORES_INICIALES_ARCHIVO_1 + '/' + n_valfile + '/' + MACROS_ARCHIVO + '/' + NOMBRE_ARCHIVO\n",
    "\n",
    "        parser = cell_devs_parser(filename, N, M)\n",
    "        evolution, max_time = parser.get_evolution_from_log('opinion')\n",
    "\n",
    "        evolution_values = [[ [] for j in range(M) ] for i in range(0,N)]\n",
    "        pts = np.linspace(0,max_time, n_cuts)\n",
    "        for i in range(0,N):\n",
    "            for j in range(0,M):\n",
    "                evolution_values[i][j] = parser.get_cut_values(evolution[i][j], pts)\n",
    "\n",
    "        # Enter cell to plot evolution\n",
    "        x = list(map(lambda x : x['time'], evolution_values[0][0]))\n",
    "        xs = [list(map(lambda x : x['value'], evolution_values[i][j])) \n",
    "              for i in range(0,N) for j in range(0,M)]\n",
    "        z = list(map(sum, zip(*xs)))\n",
    "\n",
    "        sns.set_style(\"darkgrid\")\n",
    "        ax = sns.lineplot(\n",
    "            x=list(map(lambda a : round(a,2), x)), \n",
    "            y=list(map(lambda a: a/(M*N), z)),\n",
    "            color=pal[enum_valfile],\n",
    "            marker=0,\n",
    "            label='Escenario ' + str(enum_valfile+1)\n",
    "        )\n",
    "        ax.set_ylim(-3,3)\n",
    "        ax.set_xlim(0,60)\n",
    "        #ax.set_title(VALORES_INICIALES_ARCHIVO_1)\n",
    "\n",
    "        tick_spacing = 10\n",
    "        ax.xaxis.set_major_locator(ticker.MultipleLocator(tick_spacing))\n",
    "        ax.xaxis.tick_bottom()\n",
    "        \n",
    "        #plt.legend(loc='upper right')\n",
    "        #plt.legend(loc='upper right', bbox_to_anchor=(1.05, 1), borderaxespad=0.)\n",
    "        plt.legend(bbox_to_anchor=(1.05, 1), loc=2, borderaxespad=0.)\n",
    "        \n",
    "    plt.xlabel('Tiempo (años)')\n",
    "    plt.ylabel('Promedio de convicción en población')\n",
    "    plt.savefig('final-opinion-sin-shocks.png', bbox_inches='tight')\n",
    "    plt.show()"
   ]
  },
  {
   "cell_type": "markdown",
   "metadata": {},
   "source": [
    "# CON VS SIN SHOCKS (TODO: exportar + hacer estos graficos en D3)"
   ]
  },
  {
   "cell_type": "code",
   "execution_count": 14,
   "metadata": {},
   "outputs": [],
   "source": [
    "percentages_list = [\n",
    "    #[0.05,0,0.9,0,0.05],\n",
    "    [0.1 ,0.05,0.7,0.05,0.1]\n",
    "    #[0.2,0  ,0.6,0,0.2]\n",
    "]\n",
    "NOMBRE_EXPERIMENTO = 'exp_final_2'\n",
    "N = 10\n",
    "M = 10"
   ]
  },
  {
   "cell_type": "code",
   "execution_count": 15,
   "metadata": {},
   "outputs": [
    {
     "data": {
      "image/png": "[encoded data removed]",
      "text/plain": [
       "<Figure size 432x288 with 1 Axes>"
      ]
     },
     "metadata": {},
     "output_type": "display_data"
    }
   ],
   "source": [
    "MACROS_ARCHIVO = 'macro_0'\n",
    "NOMBRE_ARCHIVO = 'opinion_log_standalone'\n",
    "n_valfiles = 10\n",
    "valfiles = [\"valfile_\"+str(i) for i in range(0,n_valfiles)]\n",
    "\n",
    "# DOS CASOS, CAMBIANDO EL NOMBRE DEL LOG (opinion_log vs opinion_log_2)\n",
    "for percentages in percentages_list:\n",
    "    valores_iniciales = \"_\".join([str(p) for p in percentages])\n",
    "    plot_cell_devs(N, M, NOMBRE_EXPERIMENTO, valores_iniciales, MACROS_ARCHIVO, NOMBRE_ARCHIVO, valfiles)"
   ]
  },
  {
   "cell_type": "code",
   "execution_count": null,
   "metadata": {},
   "outputs": [],
   "source": []
  },
  {
   "cell_type": "code",
   "execution_count": null,
   "metadata": {},
   "outputs": [],
   "source": []
  },
  {
   "cell_type": "code",
   "execution_count": null,
   "metadata": {},
   "outputs": [],
   "source": []
  },
  {
   "cell_type": "code",
   "execution_count": null,
   "metadata": {},
   "outputs": [],
   "source": [
    "MACROS_ARCHIVO = 'macro_0'\n",
    "NOMBRE_ARCHIVO = 'opinion_log'\n",
    "n_valfiles = 10\n",
    "valfiles = [\"valfile_\"+str(i) for i in range(0,n_valfiles)]\n",
    "\n",
    "# DOS CASOS, CAMBIANDO EL NOMBRE DEL LOG (opinion_log vs opinion_log_2)\n",
    "for percentages in percentages_list:\n",
    "    valores_iniciales = \"_\".join([str(p) for p in percentages])\n",
    "    plot_cell_devs(N, M, NOMBRE_EXPERIMENTO, valores_iniciales, MACROS_ARCHIVO, NOMBRE_ARCHIVO, valfiles)\n",
    "    \n",
    "print ('TERMINO')"
   ]
  },
  {
   "cell_type": "markdown",
   "metadata": {},
   "source": [
    "# TODO: probar con otros porcentajes !!!!!!!!!!!"
   ]
  },
  {
   "cell_type": "code",
   "execution_count": null,
   "metadata": {},
   "outputs": [],
   "source": [
    "N = 10\n",
    "M = 10\n",
    "NOMBRE_EXPERIMENTO = 'con_sin_shocks'\n",
    "MACROS_ARCHIVO = 'macro_0'\n",
    "NOMBRE_ARCHIVO = 'opinion_log_2'\n",
    "n_valfiles = 10\n",
    "valfiles = [\"valfile_\"+str(i) for i in range(0,n_valfiles)]\n",
    "\n",
    "percentages_list = [[0.1,0.05,0.7,0.05,0.1]]\n",
    "\n",
    "# DOS CASOS, CAMBIANDO EL NOMBRE DEL LOG (opinion_log vs opinion_log_2)\n",
    "for percentages in percentages_list:\n",
    "    valores_iniciales = \"_\".join([str(p) for p in percentages])\n",
    "    plot_cell_devs(N, M, NOMBRE_EXPERIMENTO, valores_iniciales, MACROS_ARCHIVO, NOMBRE_ARCHIVO, valfiles)"
   ]
  },
  {
   "cell_type": "code",
   "execution_count": null,
   "metadata": {},
   "outputs": [],
   "source": []
  },
  {
   "cell_type": "markdown",
   "metadata": {},
   "source": [
    "# ANALIZAR ESTADO FINAL DEL CELL-DEVS"
   ]
  },
  {
   "cell_type": "code",
   "execution_count": null,
   "metadata": {},
   "outputs": [],
   "source": [
    "# AGREGAR LOS RESULTADOS FINALES CORRESPONDIENTES A TODOS LOS VALFILES\n",
    "def final_state_cell_devs(N, M, NOMBRE_EXPERIMENTO, VALORES_INICIALES_ARCHIVO_1, MACROS_ARCHIVO, NOMBRE_ARCHIVO, valfiles):\n",
    "    pal = sns.color_palette(n_colors=len(valfiles))\n",
    "    \n",
    "    final_means = []\n",
    "    final_status = {\n",
    "        'votes_negative': 0, 'votes_positive': 0, 'votes_neutral': 0,\n",
    "        'negative': 0, 'positive': 0, 'bipartidism': 0, 'indecision': 0, \n",
    "        'extra': 0, 'tot': 0\n",
    "    }\n",
    "    for enum_valfile, n_valfile in enumerate(valfiles):        \n",
    "        filename = '../root/modelos/cell/opinion/opinion-goodwin-minsky/experimentos/' + NOMBRE_EXPERIMENTO + '/results/' + VALORES_INICIALES_ARCHIVO_1 + '/' + n_valfile + '/' + MACROS_ARCHIVO + '/' + NOMBRE_ARCHIVO\n",
    "\n",
    "        parser = cell_devs_parser(filename, N, M)\n",
    "        evolution, max_time = parser.get_evolution_from_log('opinion')\n",
    "        \n",
    "        evolution_values = [[ [] for j in range(M) ] for i in range(0,N)]\n",
    "        \n",
    "        pts = np.linspace(0,max_time, n_cuts)\n",
    "        for i in range(0,N):\n",
    "            for j in range(0,M):\n",
    "                evolution_values[i][j] = parser.get_cut_values(evolution[i][j], pts)\n",
    "\n",
    "        # Enter cell to plot evolution\n",
    "        x = list(map(lambda x : x['time'], evolution_values[0][0]))\n",
    "        xs = [list(map(lambda x : x['value'], evolution_values[i][j])) \n",
    "              for i in range(0,N) for j in range(0,M)]\n",
    "        \n",
    "        # REVISO EL ESTADO FINAL DEL CELL-DEVS\n",
    "        z1 = list(map(sum, zip(*xs)))\n",
    "        final_means.append(z1[-1:][0]/(N*M))\n",
    "        \n",
    "        final_votes = {'negative': 0, 'neutral': 0, 'positive': 0}\n",
    "        for cell_values in xs:\n",
    "            elem = cell_values[-1:][0]\n",
    "            if elem < -1:\n",
    "                final_votes['negative'] += 1\n",
    "            elif elem > 1:\n",
    "                final_votes['positive'] += 1\n",
    "            else:\n",
    "                final_votes['neutral'] += 1\n",
    "        \n",
    "        p_votes_negative = final_votes['negative'] / (N*M)\n",
    "        p_votes_positive = final_votes['positive'] / (N*M)\n",
    "        p_votes_neutral = final_votes['neutral'] / (N*M)\n",
    "        \n",
    "        # Por votos\n",
    "        if p_votes_positive > p_votes_negative and p_votes_positive > p_votes_neutral:\n",
    "            final_status['votes_positive'] += 1\n",
    "        elif p_votes_negative > p_votes_positive and p_votes_negative > p_votes_neutral:\n",
    "            final_status['votes_negative'] += 1\n",
    "        else:\n",
    "            final_status['votes_neutral'] += 1\n",
    "        \n",
    "        # Por victoria \n",
    "        if p_votes_negative > 0.7:\n",
    "            final_status['negative'] += 1\n",
    "        elif p_votes_positive > 0.7:\n",
    "            final_status['positive'] += 1\n",
    "        elif p_votes_neutral > 0.7:\n",
    "            final_status['indecision'] += 1\n",
    "        elif p_votes_negative > 0.4 and p_votes_positive > 0.4:\n",
    "            final_status['bipartidism'] += 1\n",
    "        else:\n",
    "            final_status['extra'] += 1\n",
    "            \n",
    "        # Acumular estados finales analizados\n",
    "        final_status['tot'] += 1\n",
    "    \n",
    "    return (np.mean(final_means), np.median(final_means), final_status)"
   ]
  },
  {
   "cell_type": "code",
   "execution_count": null,
   "metadata": {},
   "outputs": [],
   "source": []
  },
  {
   "cell_type": "markdown",
   "metadata": {},
   "source": [
    "# EXPERIMENTACION"
   ]
  },
  {
   "cell_type": "code",
   "execution_count": null,
   "metadata": {},
   "outputs": [],
   "source": [
    "N = 10\n",
    "M = 10\n",
    "NOMBRE_EXPERIMENTO = 'exp_2018_4mins_3'\n",
    "MACROS_ARCHIVO = 'macro_0'\n",
    "NOMBRE_ARCHIVO = 'opinion_log'\n",
    "\n",
    "n_valfiles = 10\n",
    "valfiles = [\"valfile_\"+str(i) for i in range(0,n_valfiles)]\n",
    "\n",
    "pctgs = []\n",
    "for p0 in [10,20,30,40,50,60,70,80,90]:\n",
    "    for pi in range(10,100-p0+1,10):\n",
    "        m = (100 - pi - p0)/2\n",
    "        k = [pi/2, m, float(p0), m, pi/2]\n",
    "        assert(sum(k) == 100)\n",
    "        k2 = list(map(lambda x: x/100, k))\n",
    "        assert(round(sum(k2),5) == 1)\n",
    "        pctgs.append(k2)    \n",
    "percentages_list = pctgs\n",
    "\n",
    "df = pd.DataFrame()\n",
    "for percentages in percentages_list:\n",
    "    valores_iniciales = \"_\".join([str(p) for p in percentages])\n",
    "    mean_, median_, final_status = final_state_cell_devs(N, M, NOMBRE_EXPERIMENTO, valores_iniciales, MACROS_ARCHIVO, NOMBRE_ARCHIVO, valfiles)\n",
    "    \n",
    "    assert(percentages[0] == percentages[4])\n",
    "    p_0 = percentages[2]\n",
    "    p_influ = percentages[0]\n",
    "    \n",
    "    tot = final_status['tot']\n",
    "    df = df.append({\n",
    "        'p_0': p_0, \n",
    "        'p_influ': p_influ * 2, \n",
    "        'mean': mean_,\n",
    "        'median': median_,\n",
    "        \n",
    "        # segun votos\n",
    "        'p_negative': final_status['votes_negative'] / tot,\n",
    "        'p_positive': final_status['votes_positive'] / tot,\n",
    "        'p_sin_definir': final_status['votes_neutral'] / tot,\n",
    "        \n",
    "        # segun victorias\n",
    "        'p_bipartidism': final_status['bipartidism'] / tot,\n",
    "        'p_unipartidism': (final_status['positive'] + final_status['negative']) / tot,\n",
    "        'p_indecision': final_status['indecision'] / tot\n",
    "    }, ignore_index=True)\n",
    "    \n",
    "# PIVOT DATAFRAME FOR PLOT\n",
    "df_mean = df.pivot(\"p_influ\", \"p_0\", \"mean\")\n",
    "df_median = df.pivot(\"p_influ\", \"p_0\", \"median\")\n",
    "\n",
    "df_negative = df.pivot(\"p_influ\", \"p_0\", \"p_negative\")\n",
    "df_indecision = df.pivot(\"p_influ\", \"p_0\", \"p_indecision\")\n",
    "df_bipartidism = df.pivot(\"p_influ\", \"p_0\", \"p_bipartidism\")\n",
    "df_positive = df.pivot(\"p_influ\", \"p_0\", \"p_positive\")\n",
    "df_unipartidism = df.pivot(\"p_influ\", \"p_0\", \"p_unipartidism\")\n",
    "df_sin_definir = df.pivot(\"p_influ\", \"p_0\", \"p_sin_definir\")"
   ]
  },
  {
   "cell_type": "markdown",
   "metadata": {},
   "source": [
    "# Heatmaps"
   ]
  },
  {
   "cell_type": "code",
   "execution_count": null,
   "metadata": {},
   "outputs": [],
   "source": [
    "fig = plt.figure(figsize = (20,20))\n",
    "ax4 = fig.add_subplot(3, 3, 1)\n",
    "ax3 = fig.add_subplot(3, 3, 3)\n",
    "ax6 = fig.add_subplot(3, 3, 2)\n",
    "\n",
    "\n",
    "sns.heatmap(data=df_bipartidism, ax=ax4, vmin=0, vmax=1, cmap=\"BuGn\", square=True, cbar_kws={'shrink': .8})\n",
    "ax4.invert_yaxis()\n",
    "ax4.set_title('Bipartidismo')\n",
    "ax4.set_xlabel('P0_ini[%]')\n",
    "ax4.set_ylabel('Influyentes_ini [%]')\n",
    "\n",
    "sns.heatmap(data=df_indecision, ax=ax3, vmin=0, vmax=1, cmap=\"BuGn\", square=True, cbar_kws={'shrink': .8})\n",
    "ax3.invert_yaxis()\n",
    "ax3.set_title('Indecisión')\n",
    "ax3.set_xlabel('P0_ini[%]')\n",
    "ax3.set_ylabel('Influyentes_ini [%]')\n",
    "\n",
    "sns.heatmap(data=df_unipartidism, ax=ax6, vmin=0, vmax=1, cmap=\"BuGn\", square=True, cbar_kws={'shrink': .8})\n",
    "ax6.invert_yaxis()\n",
    "ax6.set_title('Unipartidismo')\n",
    "ax6.set_xlabel('P0_ini[%]')\n",
    "ax6.set_ylabel('Influyentes_ini [%]')"
   ]
  },
  {
   "cell_type": "code",
   "execution_count": null,
   "metadata": {},
   "outputs": [],
   "source": [
    "fig = plt.figure(figsize = (20,20))\n",
    "ax2 = fig.add_subplot(3, 3, 1)\n",
    "ax5 = fig.add_subplot(3, 3, 2)\n",
    "ax7 = fig.add_subplot(3, 3, 3)\n",
    "\n",
    "sns.heatmap(data=df_positive, ax=ax2, vmin=0, vmax=1, cmap = \"YlOrRd_r\", square=True, cbar_kws={'shrink': .8})\n",
    "sns.heatmap(data=df_negative, ax=ax5, vmin=0, vmax=1, cmap = \"YlOrRd_r\", square=True, cbar_kws={'shrink': .8})\n",
    "sns.heatmap(data=df_sin_definir, ax=ax7, vmin=0, vmax=1, cmap = \"YlOrRd_r\", square=True, cbar_kws={'shrink': .8})\n",
    "\n",
    "ax2.invert_yaxis()\n",
    "ax2.set_title('Partido A')\n",
    "ax2.set_xlabel('P0_ini[%]')\n",
    "ax2.set_ylabel('Influyentes_ini [%]')\n",
    "\n",
    "ax5.invert_yaxis()\n",
    "ax5.set_title('Partido B')\n",
    "ax5.set_xlabel('P0_ini[%]')\n",
    "ax5.set_ylabel('Influyentes_ini [%]')\n",
    "\n",
    "ax7.invert_yaxis()\n",
    "ax7.set_title('Sin Definir')\n",
    "ax7.set_xlabel('P0_ini[%]')\n",
    "ax7.set_ylabel('Influyentes_ini [%]')"
   ]
  },
  {
   "cell_type": "code",
   "execution_count": null,
   "metadata": {},
   "outputs": [],
   "source": []
  },
  {
   "cell_type": "code",
   "execution_count": null,
   "metadata": {},
   "outputs": [],
   "source": []
  },
  {
   "cell_type": "code",
   "execution_count": null,
   "metadata": {},
   "outputs": [],
   "source": []
  },
  {
   "cell_type": "code",
   "execution_count": null,
   "metadata": {},
   "outputs": [],
   "source": []
  },
  {
   "cell_type": "code",
   "execution_count": null,
   "metadata": {},
   "outputs": [],
   "source": []
  },
  {
   "cell_type": "markdown",
   "metadata": {},
   "source": [
    "# EXPERIMENTACION 2 (EVOLUCION)"
   ]
  },
  {
   "cell_type": "code",
   "execution_count": null,
   "metadata": {},
   "outputs": [],
   "source": [
    "N = 10\n",
    "M = 10\n",
    "NOMBRE_EXPERIMENTO = 'exp_2018_4mins_3'\n",
    "MACROS_ARCHIVO = 'macro_0'\n",
    "NOMBRE_ARCHIVO = 'opinion_log'\n",
    "n_valfiles = 10\n",
    "valfiles = [\"valfile_\"+str(i) for i in range(0,n_valfiles)]\n",
    "\n",
    "# pctgs = []\n",
    "# for p0 in [10,20,30,40,50,60,70,80,90]:\n",
    "#     for pi in range(10,100-p0+1,10):\n",
    "#         m = (100 - pi - p0)/2\n",
    "#         k = [pi/2, m, float(p0), m, pi/2]\n",
    "#         assert(sum(k) == 100)\n",
    "#         k2 = list(map(lambda x: x/100, k))\n",
    "#         assert(round(sum(k2),5) == 1)\n",
    "#         pctgs.append(k2)    \n",
    "# percentages_list = pctgs\n",
    "percentages_list = [[0.3,0.05,0.3,0.05,0.3]]\n",
    "\n",
    "for percentages in percentages_list:\n",
    "    valores_iniciales = \"_\".join([str(p) for p in percentages])\n",
    "    plot_cell_devs(N, M, NOMBRE_EXPERIMENTO, valores_iniciales, MACROS_ARCHIVO, NOMBRE_ARCHIVO, valfiles)"
   ]
  },
  {
   "cell_type": "code",
   "execution_count": null,
   "metadata": {},
   "outputs": [],
   "source": [
    "# N = 15\n",
    "# M = 15\n",
    "# NOMBRE_EXPERIMENTO = 'exp_2018_shockers_Capital_Debt_4'\n",
    "# VALORES_INICIALES_ARCHIVO_1 = '0.05_0.25_0.4_0.25_0.05'\n",
    "# MACROS_ARCHIVO = 'macro_0'\n",
    "# NOMBRE_ARCHIVO = 'opinion_log'\n",
    "# valfiles = [\"valfile_\"+str(i) for i in range(0,10)]\n",
    "# plot_cell_devs(N, M, NOMBRE_EXPERIMENTO, VALORES_INICIALES_ARCHIVO_1, MACROS_ARCHIVO, NOMBRE_ARCHIVO, valfiles)"
   ]
  },
  {
   "cell_type": "code",
   "execution_count": null,
   "metadata": {},
   "outputs": [],
   "source": [
    "# N = 15\n",
    "# M = 15\n",
    "# NOMBRE_EXPERIMENTO = 'exp_2018_shockers_Capital_Debt_4'\n",
    "# VALORES_INICIALES_ARCHIVO_1 = '0.1_0.2_0.4_0.2_0.1'\n",
    "# MACROS_ARCHIVO = 'macro_0'\n",
    "# NOMBRE_ARCHIVO = 'opinion_log'\n",
    "# valfiles = [\"valfile_\"+str(i) for i in range(0,10)]\n",
    "# plot_cell_devs(N, M, NOMBRE_EXPERIMENTO, VALORES_INICIALES_ARCHIVO_1, MACROS_ARCHIVO, NOMBRE_ARCHIVO, valfiles)"
   ]
  }
 ],
 "metadata": {
  "kernelspec": {
   "display_name": "Python 3",
   "language": "python",
   "name": "python3"
  },
  "language_info": {
   "codemirror_mode": {
    "name": "ipython",
    "version": 3
   },
   "file_extension": ".py",
   "mimetype": "text/x-python",
   "name": "python",
   "nbconvert_exporter": "python",
   "pygments_lexer": "ipython3",
   "version": "3.5.2"
  }
 },
 "nbformat": 4,
 "nbformat_minor": 2
}
